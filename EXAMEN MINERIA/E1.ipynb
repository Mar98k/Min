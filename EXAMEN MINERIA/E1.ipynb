{
 "cells": [
  {
   "cell_type": "markdown",
   "metadata": {},
   "source": [
    "# Examen 2: Ejercicios de Python.\n"
   ]
  },
  {
   "cell_type": "markdown",
   "metadata": {},
   "source": [
    "Al momento de responder las preguntas, cerciorense de que les imprima el resultado. \n",
    "\n",
    " MARIBEL LÓPEZ SÁNCHEZ\n",
    "                Matricula: 1672709"
   ]
  },
  {
   "cell_type": "markdown",
   "metadata": {},
   "source": [
    "### 1.- Dando lista A = [3, 2, 7, 4, 12, 9, 6, 1] desarrolla los siguientes 3 ejercicios.\n",
    "\n",
    "- Imprime la sumatoria de todos los elementos.\n",
    "- Ordenalos de mayor a menor.\n",
    "- Haz una nueva lista pero solo con sus elementos pares."
   ]
  },
  {
   "cell_type": "code",
   "execution_count": 92,
   "metadata": {},
   "outputs": [
    {
     "name": "stdout",
     "output_type": "stream",
     "text": [
      "La suma es:\n",
      "44\n"
     ]
    }
   ],
   "source": [
    "#(Puntos 5)\n",
    "# Imprime la sumatoria de todos los elementos en a = [3, 2, 7, 4, 12, 9, 6, 1].\n",
    "#calcular la suma de los números e imprimirla\n",
    "suma=0\n",
    "a = [3,2,7,4,12,9,6,1]\n",
    "for numero in a:\n",
    "    suma=suma+numero\n",
    "print(\"La suma es:\")\n",
    "print(suma)"
   ]
  },
  {
   "cell_type": "code",
   "execution_count": 93,
   "metadata": {},
   "outputs": [
    {
     "name": "stdout",
     "output_type": "stream",
     "text": [
      "[12, 9, 7, 6, 4, 3, 2, 1]\n"
     ]
    }
   ],
   "source": [
    "#(Puntos 10)\n",
    "# Ordenalos de mayor a menor\n",
    "\n",
    "a = [3, 2, 7, 4, 12, 9, 6, 1]\n",
    "a.sort()\n",
    "a.reverse()\n",
    "print (lista)"
   ]
  },
  {
   "cell_type": "code",
   "execution_count": 94,
   "metadata": {},
   "outputs": [
    {
     "name": "stdout",
     "output_type": "stream",
     "text": [
      "La nueva lista es:   [2, 4, 12, 6]\n"
     ]
    }
   ],
   "source": [
    "#(Puntos 10)\n",
    "# Haz una nueva lista pero solo con sus elementos pares\n",
    "\n",
    "a = [3, 2, 7, 4, 12, 9, 6, 1]\n",
    "\n",
    "numeros = a\n",
    "pares = [numero for numero in numeros if numero % 2 ==0]\n",
    "\n",
    "b= pares\n",
    "\n",
    "print (\"La nueva lista es:  \",b)\n"
   ]
  },
  {
   "cell_type": "markdown",
   "metadata": {},
   "source": [
    "### 2.- Dale valor a dos variables y realiza 5 funciones que regresen como resultado diferentes operaciones aritmeticas (suma, resta, etc...). "
   ]
  },
  {
   "cell_type": "code",
   "execution_count": 95,
   "metadata": {},
   "outputs": [
    {
     "name": "stdout",
     "output_type": "stream",
     "text": [
      "23\n",
      "13\n",
      "90\n",
      "False\n",
      "1889568\n"
     ]
    }
   ],
   "source": [
    "#(Puntos 15)\n",
    "\n",
    "def sumar(a,b):\n",
    "    return a+b\n",
    "\n",
    "def restar(a,b):\n",
    "    return a-b\n",
    "\n",
    "def mult(a,b):\n",
    "    return a*b\n",
    "\n",
    "def mayor(a,b):\n",
    "    return a<b\n",
    "\n",
    "def exp(a,b):\n",
    "    return a**b\n",
    "\n",
    "c= sumar(18,5)\n",
    "d= restar(18,5)\n",
    "e= mult(18,5)\n",
    "f= mayor(18,5)\n",
    "g= exp(18,5)\n",
    "\n",
    "print (c)\n",
    "print (d)\n",
    "print (e)\n",
    "print (f)\n",
    "print (g)"
   ]
  },
  {
   "cell_type": "markdown",
   "metadata": {},
   "source": [
    "### 3.- Dada la lista A = [3, 2, 7, 4, 12, 9, 6, 1] y lista B = [13, 16, 21, 34, 18, 17, 11, 10] crea una lista nueva que contenga solo los datos impares de ambas listas."
   ]
  },
  {
   "cell_type": "code",
   "execution_count": 96,
   "metadata": {},
   "outputs": [
    {
     "name": "stdout",
     "output_type": "stream",
     "text": [
      "[3, 2, 7, 4, 12, 9, 6, 1, 13, 16, 21, 34, 18, 17, 11, 10]\n",
      "[3, 7, 9, 1]\n",
      "La nueva lista es:  [[3, 7, 9, 1]]\n"
     ]
    }
   ],
   "source": [
    "#(Puntos 15)\n",
    "\n",
    "A = [3, 2, 7, 4, 12, 9, 6, 1] \n",
    "B = [13, 16, 21, 34, 18, 17, 11, 10]\n",
    "\n",
    "A+=B\n",
    "print (A)\n",
    "\n",
    "numeros = a\n",
    "impares = [numero for numero in numeros if numero % 2 ==1]\n",
    "\n",
    "print (impares)\n",
    "\n",
    "C = [impares]\n",
    "\n",
    "print (\"La nueva lista es: \", C)"
   ]
  },
  {
   "cell_type": "markdown",
   "metadata": {},
   "source": [
    "### 4.- Dadas las variables W = 11, X = 17, Y = 32, Z = 65, crea una función que clasifique por grupos de edad (niño, adolecente, adulto, adulto mayor. (Utiliza el elif)"
   ]
  },
  {
   "cell_type": "code",
   "execution_count": 97,
   "metadata": {},
   "outputs": [
    {
     "name": "stdout",
     "output_type": "stream",
     "text": [
      "Exit\n"
     ]
    }
   ],
   "source": [
    "#(Puntos 15)\n",
    "\n",
    "def chico(w):\n",
    "    return w==11\n",
    "\n",
    "def adol(x):\n",
    "    return x==17\n",
    "\n",
    "def adul(y):\n",
    "    return y==32\n",
    "\n",
    "def mayor(z):\n",
    "    return z==65\n",
    "\n",
    "a= chico(11)\n",
    "b= adol(17)\n",
    "c= adul(32)\n",
    "d= mayor(65) \n",
    "\n",
    "if x == a:\n",
    "        print (\"Categoria niño\")\n",
    "elif x == b:\n",
    "        print(\"Categoria adolescente\") \n",
    "elif x ==c:\n",
    "        print(\"Categoria adulto\")\n",
    "elif x == d:\n",
    "        print(\"Categoria adulto mayor\")\n",
    "else:\n",
    "        print (\"Exit\")"
   ]
  },
  {
   "cell_type": "markdown",
   "metadata": {},
   "source": [
    "### 5.- Utilizando cualquiera de las condicionales (for, if, while...) imprime los siguientes patrones tal y como aparecen en el comentario, respetando los espacios y los saltos de renglon.\n"
   ]
  },
  {
   "cell_type": "code",
   "execution_count": 131,
   "metadata": {},
   "outputs": [
    {
     "name": "stdout",
     "output_type": "stream",
     "text": [
      "\t\n",
      "1 \t\n",
      "2 2 \t\n",
      "3 3 3 \t\n",
      "4 4 4 4 \t\n",
      "5 5 5 5 5 \t\n"
     ]
    }
   ],
   "source": [
    "#(Puntos 10)\n",
    "#1 \n",
    "#2 2\n",
    "#3 3 3\n",
    "#4 4 4 4\n",
    "#5 5 5 5 5\n",
    "\n",
    "for numero in range(6):\n",
    "    contador=numero\n",
    "    for numero in range(numero):\n",
    "        print(contador,end=\" \")       \n",
    "    print(\"\\t\")"
   ]
  },
  {
   "cell_type": "code",
   "execution_count": 129,
   "metadata": {},
   "outputs": [
    {
     "name": "stdout",
     "output_type": "stream",
     "text": [
      "5 4 3 2 1 \t\n",
      "4 3 2 1 \t\n",
      "3 2 1 \t\n",
      "2 1 \t\n",
      "1 \t\n"
     ]
    }
   ],
   "source": [
    "#(Puntos 15)\n",
    "#5 4 3 2 1 \n",
    "#4 3 2 1\n",
    "#3 2 1 \n",
    "#2 1\n",
    "#1\n",
    "\n",
    "conta = 6\n",
    "for numero in range(5):\n",
    "    aux=conta\n",
    "    conta=conta-1\n",
    "    for numero in range(5-numero):\n",
    "        aux=aux-1\n",
    "        print(aux,end=\" \")\n",
    "    print(\"\\t\")"
   ]
  },
  {
   "cell_type": "markdown",
   "metadata": {},
   "source": [
    "### 6.- Con la lista A = [3, 2, 7, 4, 12, 9, 6, 1] y el uso de condicionales, imprime una nueva lista con cada uno de los elementos de la lista A, al cuadrado."
   ]
  },
  {
   "cell_type": "code",
   "execution_count": 100,
   "metadata": {},
   "outputs": [
    {
     "name": "stdout",
     "output_type": "stream",
     "text": [
      "9\n",
      "4\n",
      "49\n",
      "16\n",
      "144\n",
      "81\n",
      "36\n",
      "1\n",
      "La nueva lista es:  [9, 4, 49, 16, 144, 81, 36, 1]\n"
     ]
    }
   ],
   "source": [
    "#(Puntos 10)\n",
    "\n",
    "A = [3, 2, 7, 4, 12, 9, 6, 1] \n",
    "B= []\n",
    "\n",
    "for elemento in A:\n",
    "    elemento = elemento * elemento\n",
    "    print(elemento)\n",
    "    B.append(elemento)\n",
    "    \n",
    "print (\"La nueva lista es: \", B)"
   ]
  },
  {
   "cell_type": "markdown",
   "metadata": {},
   "source": [
    "### (Extra puntos 5.) \n",
    "\n",
    "Conteste los tres puntos para obtener la totalidad de los puntos.\n",
    "*Mencione al menos 3 palabras reservadas para el lenguaje de programación de Python.\n",
    "\n",
    "IF, OR, WHILE\n",
    "\n",
    "*Describa la diferencia principal entre las listas y las tuplas en Python.\n",
    "Las listas tienen funciones adicionales, por lo tanto las listas son dinámicas, mientras que las tuplas son estáticas.\n",
    "\n",
    "*Describa para que sirve el condicional ELIF.\n",
    "Se usa para enlazar varios else if sin aumentar las tabulaciones, como un \"si es..\""
   ]
  },
  {
   "cell_type": "code",
   "execution_count": null,
   "metadata": {},
   "outputs": [],
   "source": []
  }
 ],
 "metadata": {
  "kernelspec": {
   "display_name": "Python 3",
   "language": "python",
   "name": "python3"
  },
  "language_info": {
   "codemirror_mode": {
    "name": "ipython",
    "version": 3
   },
   "file_extension": ".py",
   "mimetype": "text/x-python",
   "name": "python",
   "nbconvert_exporter": "python",
   "pygments_lexer": "ipython3",
   "version": "3.7.4"
  }
 },
 "nbformat": 4,
 "nbformat_minor": 2
}
