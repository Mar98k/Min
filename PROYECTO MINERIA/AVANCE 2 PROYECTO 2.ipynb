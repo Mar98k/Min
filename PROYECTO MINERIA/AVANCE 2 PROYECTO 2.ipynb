{
 "cells": [
  {
   "cell_type": "markdown",
   "metadata": {},
   "source": [
    "# AVANCE 2 PROYECTO "
   ]
  },
  {
   "cell_type": "markdown",
   "metadata": {},
   "source": [
    "### Objetivo"
   ]
  },
  {
   "cell_type": "markdown",
   "metadata": {},
   "source": [
    " En este proyecto me encargare de limpiar los datos de la Base de Datos \"Suicide Rates\", que como ya lo he comentado anteriormente es de una BD que tiene informacion de Suicidios y contamos con algunas columnas las cuales las mas importantes para mi en parte son la generacion y el lugar donde han ocurrido estos mismos, ya que el objetivo principal es ver donde se presentan más estos casos y si la economia es el punto clave de ello. Tambien me interesa saber el sexo, años y darle continuidad a las preguntas planteadas que se tiene en cuestion de generaciones para que de esta manera me ayude a poder saber cual de estas Generaciones ha sido más propensa a esta triste situacion y poder tomar accion, creando conciencia a futuras generaciones y hacer todo lo que este en manos para tomarlo como \"foco rojo\" a esta misma y ayudar.\n",
    " \n",
    " Integrantes:\n",
    " \n",
    " * López Sánchez Maribel            1672709\n",
    " \n",
    "Grupo: 001\n",
    " "
   ]
  },
  {
   "cell_type": "markdown",
   "metadata": {},
   "source": [
    "### Preguntas de interes"
   ]
  },
  {
   "cell_type": "markdown",
   "metadata": {},
   "source": [
    "* Quienes tienen mayor indice de suicidios por generaciones millenial y Z?\n",
    "* Entre los paises de Mexico y Japón, quien tiene el mayor indice de suicidios?\n",
    "* Se puede saber entre hombres y mujeres quienes tienen mayor indice de suicidios por generacion?\n",
    "* Entre los paises de Mexico y Estados Unidos influyó en los suicidios la calidad de vida en base a la economia que se tenia?"
   ]
  },
  {
   "cell_type": "markdown",
   "metadata": {},
   "source": [
    "# Limpieza de datos"
   ]
  },
  {
   "cell_type": "markdown",
   "metadata": {},
   "source": [
    "El primer paso sera importar librerias y utilizamos la libreria pandas para poder cargar archivos csv."
   ]
  },
  {
   "cell_type": "code",
   "execution_count": 65,
   "metadata": {},
   "outputs": [],
   "source": [
    "import matplotlib as plt\n",
    "import seaborn as sn\n",
    "import seaborn as sns\n",
    "import numpy as np \n",
    "import pandas as pd \n",
    "import json\n",
    "import matplotlib.pyplot as plt\n",
    "\n",
    "df = pd.read_csv(\"master_prueba.csv\") "
   ]
  },
  {
   "cell_type": "markdown",
   "metadata": {},
   "source": [
    "Verificamos las dimensiones de la tabla"
   ]
  },
  {
   "cell_type": "code",
   "execution_count": 66,
   "metadata": {},
   "outputs": [
    {
     "data": {
      "text/plain": [
       "(27820, 12)"
      ]
     },
     "execution_count": 66,
     "metadata": {},
     "output_type": "execute_result"
    }
   ],
   "source": [
    "df.shape"
   ]
  },
  {
   "cell_type": "markdown",
   "metadata": {},
   "source": [
    "A continuacion mostraremos los nombres y tipos de datos que tiene nuestra BD"
   ]
  },
  {
   "cell_type": "code",
   "execution_count": 67,
   "metadata": {},
   "outputs": [
    {
     "data": {
      "text/plain": [
       "country                object\n",
       "year                    int64\n",
       "sex                    object\n",
       "age                    object\n",
       "suicides_no             int64\n",
       "population              int64\n",
       "suicides/100k pop     float64\n",
       "country-year           object\n",
       "HDI for year          float64\n",
       " gdp_for_year ($)      object\n",
       "gdp_per_capita ($)      int64\n",
       "generation             object\n",
       "dtype: object"
      ]
     },
     "execution_count": 67,
     "metadata": {},
     "output_type": "execute_result"
    }
   ],
   "source": [
    "df.dtypes"
   ]
  },
  {
   "cell_type": "markdown",
   "metadata": {},
   "source": [
    "De estas columnas solamente necesitaremos country, sex, suicides_no, generation y gdp_per_capita. Ahora cambiaremos este nombre de las columnas al español"
   ]
  },
  {
   "cell_type": "code",
   "execution_count": 68,
   "metadata": {},
   "outputs": [
    {
     "data": {
      "text/plain": [
       "Index(['Pais', 'year', 'Sexo', 'Edad', 'NumeroDeSuicidios', 'population',\n",
       "       'suicides/100k pop', 'country-year', 'HDI for year',\n",
       "       ' gdp_for_year ($) ', 'gdp_per_capita ($)', 'Generacion'],\n",
       "      dtype='object')"
      ]
     },
     "execution_count": 68,
     "metadata": {},
     "output_type": "execute_result"
    }
   ],
   "source": [
    "df = df.rename(columns = {'country':'Pais', 'sex':'Sexo', 'suicides_no':'NumeroDeSuicidios', 'generation':'Generacion', 'age': 'Edad'})\n",
    "df.columns"
   ]
  },
  {
   "cell_type": "markdown",
   "metadata": {},
   "source": [
    "Ahora, eliminaremos las filas que contengan datos nulos para quitar lo que no necesitamos. Nosotros lo hemos echo asi porque sabemos que las columnas de interes (PAIS, SEXO, NUMERO DE SUICIDIOS, GENERACION Y PRODUCTO INTERNO BRUTO (gdp_per_capita)) no se encuentran con ninguna celda vacia"
   ]
  },
  {
   "cell_type": "code",
   "execution_count": 69,
   "metadata": {},
   "outputs": [],
   "source": [
    "df = df.dropna()"
   ]
  },
  {
   "cell_type": "markdown",
   "metadata": {},
   "source": [
    "Para el siguiente paso eliminaremos todas las columnas que tengan datos nulos. Igual que en lo anterior, ya confirmamos que en nuestras columnas de interes no habia datos nulos."
   ]
  },
  {
   "cell_type": "code",
   "execution_count": 70,
   "metadata": {},
   "outputs": [],
   "source": [
    "df = df.dropna(axis=1)"
   ]
  },
  {
   "cell_type": "markdown",
   "metadata": {},
   "source": [
    "Ahora mostraremos el resultado"
   ]
  },
  {
   "cell_type": "code",
   "execution_count": 71,
   "metadata": {},
   "outputs": [
    {
     "data": {
      "text/html": [
       "<div>\n",
       "<style scoped>\n",
       "    .dataframe tbody tr th:only-of-type {\n",
       "        vertical-align: middle;\n",
       "    }\n",
       "\n",
       "    .dataframe tbody tr th {\n",
       "        vertical-align: top;\n",
       "    }\n",
       "\n",
       "    .dataframe thead th {\n",
       "        text-align: right;\n",
       "    }\n",
       "</style>\n",
       "<table border=\"1\" class=\"dataframe\">\n",
       "  <thead>\n",
       "    <tr style=\"text-align: right;\">\n",
       "      <th></th>\n",
       "      <th>Pais</th>\n",
       "      <th>year</th>\n",
       "      <th>Sexo</th>\n",
       "      <th>Edad</th>\n",
       "      <th>NumeroDeSuicidios</th>\n",
       "      <th>population</th>\n",
       "      <th>suicides/100k pop</th>\n",
       "      <th>country-year</th>\n",
       "      <th>HDI for year</th>\n",
       "      <th>gdp_for_year ($)</th>\n",
       "      <th>gdp_per_capita ($)</th>\n",
       "      <th>Generacion</th>\n",
       "    </tr>\n",
       "  </thead>\n",
       "  <tbody>\n",
       "    <tr>\n",
       "      <td>72</td>\n",
       "      <td>Albania</td>\n",
       "      <td>1995</td>\n",
       "      <td>male</td>\n",
       "      <td>25-34 years</td>\n",
       "      <td>13</td>\n",
       "      <td>232900</td>\n",
       "      <td>5.58</td>\n",
       "      <td>Albania1995</td>\n",
       "      <td>0.619</td>\n",
       "      <td>2,424,499,009</td>\n",
       "      <td>835</td>\n",
       "      <td>X</td>\n",
       "    </tr>\n",
       "    <tr>\n",
       "      <td>73</td>\n",
       "      <td>Albania</td>\n",
       "      <td>1995</td>\n",
       "      <td>male</td>\n",
       "      <td>55-74 years</td>\n",
       "      <td>9</td>\n",
       "      <td>178000</td>\n",
       "      <td>5.06</td>\n",
       "      <td>Albania1995</td>\n",
       "      <td>0.619</td>\n",
       "      <td>2,424,499,009</td>\n",
       "      <td>835</td>\n",
       "      <td>S</td>\n",
       "    </tr>\n",
       "    <tr>\n",
       "      <td>74</td>\n",
       "      <td>Albania</td>\n",
       "      <td>1995</td>\n",
       "      <td>female</td>\n",
       "      <td>75+ years</td>\n",
       "      <td>2</td>\n",
       "      <td>40800</td>\n",
       "      <td>4.90</td>\n",
       "      <td>Albania1995</td>\n",
       "      <td>0.619</td>\n",
       "      <td>2,424,499,009</td>\n",
       "      <td>835</td>\n",
       "      <td>G.I.</td>\n",
       "    </tr>\n",
       "    <tr>\n",
       "      <td>75</td>\n",
       "      <td>Albania</td>\n",
       "      <td>1995</td>\n",
       "      <td>female</td>\n",
       "      <td>15-24 years</td>\n",
       "      <td>13</td>\n",
       "      <td>283500</td>\n",
       "      <td>4.59</td>\n",
       "      <td>Albania1995</td>\n",
       "      <td>0.619</td>\n",
       "      <td>2,424,499,009</td>\n",
       "      <td>835</td>\n",
       "      <td>X</td>\n",
       "    </tr>\n",
       "    <tr>\n",
       "      <td>76</td>\n",
       "      <td>Albania</td>\n",
       "      <td>1995</td>\n",
       "      <td>male</td>\n",
       "      <td>15-24 years</td>\n",
       "      <td>11</td>\n",
       "      <td>241200</td>\n",
       "      <td>4.56</td>\n",
       "      <td>Albania1995</td>\n",
       "      <td>0.619</td>\n",
       "      <td>2,424,499,009</td>\n",
       "      <td>835</td>\n",
       "      <td>X</td>\n",
       "    </tr>\n",
       "    <tr>\n",
       "      <td>...</td>\n",
       "      <td>...</td>\n",
       "      <td>...</td>\n",
       "      <td>...</td>\n",
       "      <td>...</td>\n",
       "      <td>...</td>\n",
       "      <td>...</td>\n",
       "      <td>...</td>\n",
       "      <td>...</td>\n",
       "      <td>...</td>\n",
       "      <td>...</td>\n",
       "      <td>...</td>\n",
       "      <td>...</td>\n",
       "    </tr>\n",
       "    <tr>\n",
       "      <td>27815</td>\n",
       "      <td>Uzbekistan</td>\n",
       "      <td>2014</td>\n",
       "      <td>female</td>\n",
       "      <td>35-54 years</td>\n",
       "      <td>107</td>\n",
       "      <td>3620833</td>\n",
       "      <td>2.96</td>\n",
       "      <td>Uzbekistan2014</td>\n",
       "      <td>0.675</td>\n",
       "      <td>63,067,077,179</td>\n",
       "      <td>2309</td>\n",
       "      <td>X</td>\n",
       "    </tr>\n",
       "    <tr>\n",
       "      <td>27816</td>\n",
       "      <td>Uzbekistan</td>\n",
       "      <td>2014</td>\n",
       "      <td>female</td>\n",
       "      <td>75+ years</td>\n",
       "      <td>9</td>\n",
       "      <td>348465</td>\n",
       "      <td>2.58</td>\n",
       "      <td>Uzbekistan2014</td>\n",
       "      <td>0.675</td>\n",
       "      <td>63,067,077,179</td>\n",
       "      <td>2309</td>\n",
       "      <td>S</td>\n",
       "    </tr>\n",
       "    <tr>\n",
       "      <td>27817</td>\n",
       "      <td>Uzbekistan</td>\n",
       "      <td>2014</td>\n",
       "      <td>male</td>\n",
       "      <td>5-14 years</td>\n",
       "      <td>60</td>\n",
       "      <td>2762158</td>\n",
       "      <td>2.17</td>\n",
       "      <td>Uzbekistan2014</td>\n",
       "      <td>0.675</td>\n",
       "      <td>63,067,077,179</td>\n",
       "      <td>2309</td>\n",
       "      <td>Z</td>\n",
       "    </tr>\n",
       "    <tr>\n",
       "      <td>27818</td>\n",
       "      <td>Uzbekistan</td>\n",
       "      <td>2014</td>\n",
       "      <td>female</td>\n",
       "      <td>5-14 years</td>\n",
       "      <td>44</td>\n",
       "      <td>2631600</td>\n",
       "      <td>1.67</td>\n",
       "      <td>Uzbekistan2014</td>\n",
       "      <td>0.675</td>\n",
       "      <td>63,067,077,179</td>\n",
       "      <td>2309</td>\n",
       "      <td>Z</td>\n",
       "    </tr>\n",
       "    <tr>\n",
       "      <td>27819</td>\n",
       "      <td>Uzbekistan</td>\n",
       "      <td>2014</td>\n",
       "      <td>female</td>\n",
       "      <td>55-74 years</td>\n",
       "      <td>21</td>\n",
       "      <td>1438935</td>\n",
       "      <td>1.46</td>\n",
       "      <td>Uzbekistan2014</td>\n",
       "      <td>0.675</td>\n",
       "      <td>63,067,077,179</td>\n",
       "      <td>2309</td>\n",
       "      <td>BM</td>\n",
       "    </tr>\n",
       "  </tbody>\n",
       "</table>\n",
       "<p>8364 rows × 12 columns</p>\n",
       "</div>"
      ],
      "text/plain": [
       "             Pais  year    Sexo         Edad  NumeroDeSuicidios  population  \\\n",
       "72        Albania  1995    male  25-34 years                 13      232900   \n",
       "73        Albania  1995    male  55-74 years                  9      178000   \n",
       "74        Albania  1995  female    75+ years                  2       40800   \n",
       "75        Albania  1995  female  15-24 years                 13      283500   \n",
       "76        Albania  1995    male  15-24 years                 11      241200   \n",
       "...           ...   ...     ...          ...                ...         ...   \n",
       "27815  Uzbekistan  2014  female  35-54 years                107     3620833   \n",
       "27816  Uzbekistan  2014  female    75+ years                  9      348465   \n",
       "27817  Uzbekistan  2014    male   5-14 years                 60     2762158   \n",
       "27818  Uzbekistan  2014  female   5-14 years                 44     2631600   \n",
       "27819  Uzbekistan  2014  female  55-74 years                 21     1438935   \n",
       "\n",
       "       suicides/100k pop    country-year  HDI for year  gdp_for_year ($)   \\\n",
       "72                  5.58     Albania1995         0.619      2,424,499,009   \n",
       "73                  5.06     Albania1995         0.619      2,424,499,009   \n",
       "74                  4.90     Albania1995         0.619      2,424,499,009   \n",
       "75                  4.59     Albania1995         0.619      2,424,499,009   \n",
       "76                  4.56     Albania1995         0.619      2,424,499,009   \n",
       "...                  ...             ...           ...                ...   \n",
       "27815               2.96  Uzbekistan2014         0.675     63,067,077,179   \n",
       "27816               2.58  Uzbekistan2014         0.675     63,067,077,179   \n",
       "27817               2.17  Uzbekistan2014         0.675     63,067,077,179   \n",
       "27818               1.67  Uzbekistan2014         0.675     63,067,077,179   \n",
       "27819               1.46  Uzbekistan2014         0.675     63,067,077,179   \n",
       "\n",
       "       gdp_per_capita ($) Generacion  \n",
       "72                    835          X  \n",
       "73                    835          S  \n",
       "74                    835       G.I.  \n",
       "75                    835          X  \n",
       "76                    835          X  \n",
       "...                   ...        ...  \n",
       "27815                2309          X  \n",
       "27816                2309          S  \n",
       "27817                2309          Z  \n",
       "27818                2309          Z  \n",
       "27819                2309         BM  \n",
       "\n",
       "[8364 rows x 12 columns]"
      ]
     },
     "execution_count": 71,
     "metadata": {},
     "output_type": "execute_result"
    }
   ],
   "source": [
    "df"
   ]
  },
  {
   "cell_type": "markdown",
   "metadata": {},
   "source": [
    "A continuacion eliminaremos las columnas que no necesitamos. Para solo quedarnos con Pais, Sexo, NumeroDeSuicidios y Generacion y gdp_for_year que son de nuestro interes y en estas nos estaremos basando precisamente para contestar las preguntas de interes."
   ]
  },
  {
   "cell_type": "code",
   "execution_count": 72,
   "metadata": {},
   "outputs": [],
   "source": [
    "df_solopais = df.drop(['population', 'country-year', 'HDI for year',\n",
    "       ' gdp_for_year ($) ', 'Edad'], axis=1)"
   ]
  },
  {
   "cell_type": "code",
   "execution_count": 73,
   "metadata": {},
   "outputs": [
    {
     "data": {
      "text/html": [
       "<div>\n",
       "<style scoped>\n",
       "    .dataframe tbody tr th:only-of-type {\n",
       "        vertical-align: middle;\n",
       "    }\n",
       "\n",
       "    .dataframe tbody tr th {\n",
       "        vertical-align: top;\n",
       "    }\n",
       "\n",
       "    .dataframe thead th {\n",
       "        text-align: right;\n",
       "    }\n",
       "</style>\n",
       "<table border=\"1\" class=\"dataframe\">\n",
       "  <thead>\n",
       "    <tr style=\"text-align: right;\">\n",
       "      <th></th>\n",
       "      <th>Pais</th>\n",
       "      <th>year</th>\n",
       "      <th>Sexo</th>\n",
       "      <th>NumeroDeSuicidios</th>\n",
       "      <th>suicides/100k pop</th>\n",
       "      <th>gdp_per_capita ($)</th>\n",
       "      <th>Generacion</th>\n",
       "    </tr>\n",
       "  </thead>\n",
       "  <tbody>\n",
       "    <tr>\n",
       "      <td>72</td>\n",
       "      <td>Albania</td>\n",
       "      <td>1995</td>\n",
       "      <td>male</td>\n",
       "      <td>13</td>\n",
       "      <td>5.58</td>\n",
       "      <td>835</td>\n",
       "      <td>X</td>\n",
       "    </tr>\n",
       "    <tr>\n",
       "      <td>73</td>\n",
       "      <td>Albania</td>\n",
       "      <td>1995</td>\n",
       "      <td>male</td>\n",
       "      <td>9</td>\n",
       "      <td>5.06</td>\n",
       "      <td>835</td>\n",
       "      <td>S</td>\n",
       "    </tr>\n",
       "    <tr>\n",
       "      <td>74</td>\n",
       "      <td>Albania</td>\n",
       "      <td>1995</td>\n",
       "      <td>female</td>\n",
       "      <td>2</td>\n",
       "      <td>4.90</td>\n",
       "      <td>835</td>\n",
       "      <td>G.I.</td>\n",
       "    </tr>\n",
       "    <tr>\n",
       "      <td>75</td>\n",
       "      <td>Albania</td>\n",
       "      <td>1995</td>\n",
       "      <td>female</td>\n",
       "      <td>13</td>\n",
       "      <td>4.59</td>\n",
       "      <td>835</td>\n",
       "      <td>X</td>\n",
       "    </tr>\n",
       "    <tr>\n",
       "      <td>76</td>\n",
       "      <td>Albania</td>\n",
       "      <td>1995</td>\n",
       "      <td>male</td>\n",
       "      <td>11</td>\n",
       "      <td>4.56</td>\n",
       "      <td>835</td>\n",
       "      <td>X</td>\n",
       "    </tr>\n",
       "    <tr>\n",
       "      <td>...</td>\n",
       "      <td>...</td>\n",
       "      <td>...</td>\n",
       "      <td>...</td>\n",
       "      <td>...</td>\n",
       "      <td>...</td>\n",
       "      <td>...</td>\n",
       "      <td>...</td>\n",
       "    </tr>\n",
       "    <tr>\n",
       "      <td>27815</td>\n",
       "      <td>Uzbekistan</td>\n",
       "      <td>2014</td>\n",
       "      <td>female</td>\n",
       "      <td>107</td>\n",
       "      <td>2.96</td>\n",
       "      <td>2309</td>\n",
       "      <td>X</td>\n",
       "    </tr>\n",
       "    <tr>\n",
       "      <td>27816</td>\n",
       "      <td>Uzbekistan</td>\n",
       "      <td>2014</td>\n",
       "      <td>female</td>\n",
       "      <td>9</td>\n",
       "      <td>2.58</td>\n",
       "      <td>2309</td>\n",
       "      <td>S</td>\n",
       "    </tr>\n",
       "    <tr>\n",
       "      <td>27817</td>\n",
       "      <td>Uzbekistan</td>\n",
       "      <td>2014</td>\n",
       "      <td>male</td>\n",
       "      <td>60</td>\n",
       "      <td>2.17</td>\n",
       "      <td>2309</td>\n",
       "      <td>Z</td>\n",
       "    </tr>\n",
       "    <tr>\n",
       "      <td>27818</td>\n",
       "      <td>Uzbekistan</td>\n",
       "      <td>2014</td>\n",
       "      <td>female</td>\n",
       "      <td>44</td>\n",
       "      <td>1.67</td>\n",
       "      <td>2309</td>\n",
       "      <td>Z</td>\n",
       "    </tr>\n",
       "    <tr>\n",
       "      <td>27819</td>\n",
       "      <td>Uzbekistan</td>\n",
       "      <td>2014</td>\n",
       "      <td>female</td>\n",
       "      <td>21</td>\n",
       "      <td>1.46</td>\n",
       "      <td>2309</td>\n",
       "      <td>BM</td>\n",
       "    </tr>\n",
       "  </tbody>\n",
       "</table>\n",
       "<p>8364 rows × 7 columns</p>\n",
       "</div>"
      ],
      "text/plain": [
       "             Pais  year    Sexo  NumeroDeSuicidios  suicides/100k pop  \\\n",
       "72        Albania  1995    male                 13               5.58   \n",
       "73        Albania  1995    male                  9               5.06   \n",
       "74        Albania  1995  female                  2               4.90   \n",
       "75        Albania  1995  female                 13               4.59   \n",
       "76        Albania  1995    male                 11               4.56   \n",
       "...           ...   ...     ...                ...                ...   \n",
       "27815  Uzbekistan  2014  female                107               2.96   \n",
       "27816  Uzbekistan  2014  female                  9               2.58   \n",
       "27817  Uzbekistan  2014    male                 60               2.17   \n",
       "27818  Uzbekistan  2014  female                 44               1.67   \n",
       "27819  Uzbekistan  2014  female                 21               1.46   \n",
       "\n",
       "       gdp_per_capita ($) Generacion  \n",
       "72                    835          X  \n",
       "73                    835          S  \n",
       "74                    835       G.I.  \n",
       "75                    835          X  \n",
       "76                    835          X  \n",
       "...                   ...        ...  \n",
       "27815                2309          X  \n",
       "27816                2309          S  \n",
       "27817                2309          Z  \n",
       "27818                2309          Z  \n",
       "27819                2309         BM  \n",
       "\n",
       "[8364 rows x 7 columns]"
      ]
     },
     "execution_count": 73,
     "metadata": {},
     "output_type": "execute_result"
    }
   ],
   "source": [
    "df_solopais"
   ]
  },
  {
   "cell_type": "markdown",
   "metadata": {},
   "source": [
    "# Visualización de Datos"
   ]
  },
  {
   "cell_type": "markdown",
   "metadata": {},
   "source": [
    "A partir de aqui nos encargamos de agrupar los numereos de suicidios totales que se han tenido por todas las generaciones"
   ]
  },
  {
   "cell_type": "code",
   "execution_count": 74,
   "metadata": {},
   "outputs": [],
   "source": [
    "df_solopaisgraph = df_solopais.groupby('Generacion').agg({'NumeroDeSuicidios':'sum'})"
   ]
  },
  {
   "cell_type": "code",
   "execution_count": 75,
   "metadata": {},
   "outputs": [
    {
     "data": {
      "text/html": [
       "<div>\n",
       "<style scoped>\n",
       "    .dataframe tbody tr th:only-of-type {\n",
       "        vertical-align: middle;\n",
       "    }\n",
       "\n",
       "    .dataframe tbody tr th {\n",
       "        vertical-align: top;\n",
       "    }\n",
       "\n",
       "    .dataframe thead th {\n",
       "        text-align: right;\n",
       "    }\n",
       "</style>\n",
       "<table border=\"1\" class=\"dataframe\">\n",
       "  <thead>\n",
       "    <tr style=\"text-align: right;\">\n",
       "      <th></th>\n",
       "      <th>NumeroDeSuicidios</th>\n",
       "    </tr>\n",
       "    <tr>\n",
       "      <th>Generacion</th>\n",
       "      <th></th>\n",
       "    </tr>\n",
       "  </thead>\n",
       "  <tbody>\n",
       "    <tr>\n",
       "      <td>BM</td>\n",
       "      <td>435081</td>\n",
       "    </tr>\n",
       "    <tr>\n",
       "      <td>G.I.</td>\n",
       "      <td>129523</td>\n",
       "    </tr>\n",
       "    <tr>\n",
       "      <td>M</td>\n",
       "      <td>242303</td>\n",
       "    </tr>\n",
       "    <tr>\n",
       "      <td>S</td>\n",
       "      <td>379755</td>\n",
       "    </tr>\n",
       "    <tr>\n",
       "      <td>X</td>\n",
       "      <td>529371</td>\n",
       "    </tr>\n",
       "    <tr>\n",
       "      <td>Z</td>\n",
       "      <td>7991</td>\n",
       "    </tr>\n",
       "  </tbody>\n",
       "</table>\n",
       "</div>"
      ],
      "text/plain": [
       "            NumeroDeSuicidios\n",
       "Generacion                   \n",
       "BM                     435081\n",
       "G.I.                   129523\n",
       "M                      242303\n",
       "S                      379755\n",
       "X                      529371\n",
       "Z                        7991"
      ]
     },
     "execution_count": 75,
     "metadata": {},
     "output_type": "execute_result"
    }
   ],
   "source": [
    "df_solopaisgraph"
   ]
  },
  {
   "cell_type": "markdown",
   "metadata": {},
   "source": [
    "En base a la pregunta: \n",
    "*  Quienes tienen mayor indice de suicidios por generaciones millenial y Z?\n",
    "Se puede dar a conocer lo siguiente, clasificando los suicidios por generación como se puede ver en la tabla de arriba y en la grafica de abajo que entre más joven es menos propenso a que se cometa un suicidio, en este caso la generacion Z da la razon. Los números en la grafica y tablas proporcionadas hablan por si solas, ya que a partir de que nosotros formulamos la pregunta en cuestion, para la generacion Z y Millenial nos dimos cuenta que precisamente quien tiene un mayor indice de suicidios es la Generacion de los Millenial y nos ayuda a nosotros a poder recopilar mejor la informacion de esta manera, ya que es mas factible, consisa y tangible."
   ]
  },
  {
   "cell_type": "code",
   "execution_count": 76,
   "metadata": {
    "scrolled": true
   },
   "outputs": [
    {
     "data": {
      "text/plain": [
       "<matplotlib.axes._subplots.AxesSubplot at 0x1c09b9f06c8>"
      ]
     },
     "execution_count": 76,
     "metadata": {},
     "output_type": "execute_result"
    },
    {
     "data": {
      "image/png": "[encoded data removed]",
      "text/plain": [
       "<Figure size 432x288 with 1 Axes>"
      ]
     },
     "metadata": {
      "needs_background": "light"
     },
     "output_type": "display_data"
    }
   ],
   "source": [
    "df_solopaisgraph.plot.bar(stacked=True)"
   ]
  },
  {
   "cell_type": "code",
   "execution_count": 77,
   "metadata": {},
   "outputs": [
    {
     "data": {
      "text/html": [
       "<div>\n",
       "<style scoped>\n",
       "    .dataframe tbody tr th:only-of-type {\n",
       "        vertical-align: middle;\n",
       "    }\n",
       "\n",
       "    .dataframe tbody tr th {\n",
       "        vertical-align: top;\n",
       "    }\n",
       "\n",
       "    .dataframe thead th {\n",
       "        text-align: right;\n",
       "    }\n",
       "</style>\n",
       "<table border=\"1\" class=\"dataframe\">\n",
       "  <thead>\n",
       "    <tr style=\"text-align: right;\">\n",
       "      <th></th>\n",
       "      <th></th>\n",
       "      <th>NumeroDeSuicidios</th>\n",
       "    </tr>\n",
       "    <tr>\n",
       "      <th>Generacion</th>\n",
       "      <th>Pais</th>\n",
       "      <th></th>\n",
       "    </tr>\n",
       "  </thead>\n",
       "  <tbody>\n",
       "    <tr>\n",
       "      <td rowspan=\"5\" valign=\"top\">BM</td>\n",
       "      <td>Albania</td>\n",
       "      <td>31</td>\n",
       "    </tr>\n",
       "    <tr>\n",
       "      <td>Antigua and Barbuda</td>\n",
       "      <td>0</td>\n",
       "    </tr>\n",
       "    <tr>\n",
       "      <td>Argentina</td>\n",
       "      <td>4668</td>\n",
       "    </tr>\n",
       "    <tr>\n",
       "      <td>Armenia</td>\n",
       "      <td>146</td>\n",
       "    </tr>\n",
       "    <tr>\n",
       "      <td>Australia</td>\n",
       "      <td>4433</td>\n",
       "    </tr>\n",
       "    <tr>\n",
       "      <td>...</td>\n",
       "      <td>...</td>\n",
       "      <td>...</td>\n",
       "    </tr>\n",
       "    <tr>\n",
       "      <td rowspan=\"5\" valign=\"top\">Z</td>\n",
       "      <td>United Arab Emirates</td>\n",
       "      <td>0</td>\n",
       "    </tr>\n",
       "    <tr>\n",
       "      <td>United Kingdom</td>\n",
       "      <td>50</td>\n",
       "    </tr>\n",
       "    <tr>\n",
       "      <td>United States</td>\n",
       "      <td>1695</td>\n",
       "    </tr>\n",
       "    <tr>\n",
       "      <td>Uruguay</td>\n",
       "      <td>16</td>\n",
       "    </tr>\n",
       "    <tr>\n",
       "      <td>Uzbekistan</td>\n",
       "      <td>430</td>\n",
       "    </tr>\n",
       "  </tbody>\n",
       "</table>\n",
       "<p>525 rows × 1 columns</p>\n",
       "</div>"
      ],
      "text/plain": [
       "                                 NumeroDeSuicidios\n",
       "Generacion Pais                                   \n",
       "BM         Albania                              31\n",
       "           Antigua and Barbuda                   0\n",
       "           Argentina                          4668\n",
       "           Armenia                             146\n",
       "           Australia                          4433\n",
       "...                                            ...\n",
       "Z          United Arab Emirates                  0\n",
       "           United Kingdom                       50\n",
       "           United States                      1695\n",
       "           Uruguay                              16\n",
       "           Uzbekistan                          430\n",
       "\n",
       "[525 rows x 1 columns]"
      ]
     },
     "execution_count": 77,
     "metadata": {},
     "output_type": "execute_result"
    }
   ],
   "source": [
    "df_genXpais = df_solopais.groupby(['Generacion', 'Pais']).agg({'NumeroDeSuicidios':'sum'})\n",
    "df_genXpais"
   ]
  },
  {
   "cell_type": "markdown",
   "metadata": {},
   "source": [
    "En base a la pregunta:\n",
    "* Entre los paises de Mexico y Japón, quien tiene el mayor indice de suicidios?\n",
    "Se obtiene la siguiente tabla, con lo cual la estadistica nos permite observar los diferentes indices de suicidios en cada pais, pero en la grafica de abajo nos permite observar que el pais de Japon tiene el mayor indice de suicidios, sin embargo lo que nos muestra la grafica no es solamente eso ya que Japon tiene el segundo lugar de los primeros 10 paises, el primer lugar lo tiene Estados Unidos."
   ]
  },
  {
   "cell_type": "code",
   "execution_count": 78,
   "metadata": {},
   "outputs": [
    {
     "data": {
      "text/plain": [
       "<matplotlib.axes._subplots.AxesSubplot at 0x1c09b9cb948>"
      ]
     },
     "execution_count": 78,
     "metadata": {},
     "output_type": "execute_result"
    },
    {
     "data": {
      "image/png": "[encoded data removed]",
      "text/plain": [
       "<Figure size 432x288 with 1 Axes>"
      ]
     },
     "metadata": {},
     "output_type": "display_data"
    }
   ],
   "source": [
    "df_solopais.groupby(['Pais']).NumeroDeSuicidios.sum().nlargest(10).plot(kind='pie')  "
   ]
  },
  {
   "cell_type": "markdown",
   "metadata": {},
   "source": [
    "En base a la pregunta: \n",
    "* Se puede saber entre hombres y mujeres quienes tienen mayor indice de suicidios por generacion? En base a las clases creadas para mostrar la totalidad de numero de suicidios por parte de Mujeres y Hombres, el resultado mayor fue por parte de los Hombres con una diferencia de 902,024. Mostrando el resultado en las siguientes graficas"
   ]
  },
  {
   "cell_type": "code",
   "execution_count": 79,
   "metadata": {},
   "outputs": [],
   "source": [
    "clase1 = df[df['Sexo'] == 'female']\n",
    "clase1 = clase1.agg({'NumeroDeSuicidios':'sum'})"
   ]
  },
  {
   "cell_type": "code",
   "execution_count": 80,
   "metadata": {},
   "outputs": [
    {
     "data": {
      "text/plain": [
       "NumeroDeSuicidios    411000\n",
       "dtype: int64"
      ]
     },
     "execution_count": 80,
     "metadata": {},
     "output_type": "execute_result"
    }
   ],
   "source": [
    "clase1"
   ]
  },
  {
   "cell_type": "code",
   "execution_count": 81,
   "metadata": {},
   "outputs": [],
   "source": [
    "clase2 = df[df['Sexo'] == 'male']\n",
    "clase2 = clase2.agg({'NumeroDeSuicidios':'sum'})"
   ]
  },
  {
   "cell_type": "code",
   "execution_count": 82,
   "metadata": {},
   "outputs": [
    {
     "data": {
      "text/plain": [
       "NumeroDeSuicidios    1313024\n",
       "dtype: int64"
      ]
     },
     "execution_count": 82,
     "metadata": {},
     "output_type": "execute_result"
    }
   ],
   "source": [
    "clase2"
   ]
  },
  {
   "cell_type": "code",
   "execution_count": 83,
   "metadata": {},
   "outputs": [
    {
     "data": {
      "text/plain": [
       "<matplotlib.axes._subplots.AxesSubplot at 0x1c09b5894c8>"
      ]
     },
     "execution_count": 83,
     "metadata": {},
     "output_type": "execute_result"
    },
    {
     "data": {
      "image/png": "[encoded data removed]",
      "text/plain": [
       "<Figure size 432x288 with 1 Axes>"
      ]
     },
     "metadata": {},
     "output_type": "display_data"
    }
   ],
   "source": [
    "df_solopais.groupby(['Sexo']).NumeroDeSuicidios.sum().nlargest(10).plot(kind='pie')  "
   ]
  },
  {
   "cell_type": "markdown",
   "metadata": {},
   "source": [
    "A continuacion convertimos a M y F los datos de Male y Female, para poder tomar con mayor practicidad los datos de la tabla que crearemos para poder saber con exactitud cuantos suicidios de Hombres y Mujeres se tuvieron en cada Generacion, ya que nos ayudara a contestar la tercera pregunta."
   ]
  },
  {
   "cell_type": "code",
   "execution_count": 84,
   "metadata": {},
   "outputs": [
    {
     "data": {
      "text/plain": [
       "72    M\n",
       "73    M\n",
       "74    F\n",
       "75    F\n",
       "76    M\n",
       "Name: Sexo, dtype: object"
      ]
     },
     "execution_count": 84,
     "metadata": {},
     "output_type": "execute_result"
    }
   ],
   "source": [
    "Sexo = {\"male\" : \"M\", \"female\" : \"F\"}\n",
    "df[\"Sexo\"] = df[\"Sexo\"].apply(lambda x:Sexo[x])\n",
    "df[\"Sexo\"].head()"
   ]
  },
  {
   "cell_type": "code",
   "execution_count": 85,
   "metadata": {},
   "outputs": [
    {
     "data": {
      "text/plain": [
       "72       M\n",
       "73       M\n",
       "74       F\n",
       "75       F\n",
       "76       M\n",
       "        ..\n",
       "27815    F\n",
       "27816    F\n",
       "27817    M\n",
       "27818    F\n",
       "27819    F\n",
       "Name: Sexo, Length: 8364, dtype: object"
      ]
     },
     "execution_count": 85,
     "metadata": {},
     "output_type": "execute_result"
    }
   ],
   "source": [
    "df.Sexo"
   ]
  },
  {
   "cell_type": "code",
   "execution_count": 86,
   "metadata": {},
   "outputs": [
    {
     "data": {
      "text/plain": [
       "Generacion  Sexo\n",
       "BM          F        98794\n",
       "            M       336287\n",
       "G.I.        F        42572\n",
       "            M        86951\n",
       "M           F        52740\n",
       "            M       189563\n",
       "S           F        98919\n",
       "            M       280836\n",
       "X           F       114868\n",
       "            M       414503\n",
       "Z           F         3107\n",
       "            M         4884\n",
       "Name: NumeroDeSuicidios, dtype: int64"
      ]
     },
     "execution_count": 86,
     "metadata": {},
     "output_type": "execute_result"
    }
   ],
   "source": [
    "pclass= df.groupby([\"Generacion\", \"Sexo\"])[\"NumeroDeSuicidios\"].sum()\n",
    "pclass"
   ]
  },
  {
   "cell_type": "markdown",
   "metadata": {},
   "source": [
    "En cuestion de la pregunta:\n",
    "* Se puede saber entre hombres y mujeres quienes tienen mayor indice de suicidios por generacion? Podemos apreciar en la siguiente grafica los resultados obtenidos de hombres por cada generacion, teniendo en nuestra \"Y\" los Numeros de Suicidios, en nuestra \"X\" la Generacion a quien corresponde y como segunda grafica los datos obtenidos de mujeres por cada generacion. Confirmando que la mayoria de suicidios corresponden a los Hombres y es en la Generacion X donde más indices hubo, pero no solamente eso, sino que en segundo lugar tenemos a la generacion de los Boomers, igualmente con mayor indice de Hombres y esto nos confirma a nosotros que precisamente en esta generacion como todos sabemos fue la que paso por muchas crisis, perdieron su empleo, sus casas y parte de su jubilacion."
   ]
  },
  {
   "cell_type": "code",
   "execution_count": 87,
   "metadata": {},
   "outputs": [
    {
     "data": {
      "text/plain": [
       "<seaborn.axisgrid.FacetGrid at 0x1c09b69d4c8>"
      ]
     },
     "execution_count": 87,
     "metadata": {},
     "output_type": "execute_result"
    },
    {
     "data": {
      "image/png": "[encoded data removed]",
      "text/plain": [
       "<Figure size 401.75x360 with 1 Axes>"
      ]
     },
     "metadata": {
      "needs_background": "light"
     },
     "output_type": "display_data"
    }
   ],
   "source": [
    "sns.lmplot(x='Generacion', y='NumeroDeSuicidios', hue='Sexo', \n",
    "           data=df.loc[df['Sexo'].isin(['F'])], \n",
    "           fit_reg=False)"
   ]
  },
  {
   "cell_type": "code",
   "execution_count": 88,
   "metadata": {},
   "outputs": [
    {
     "data": {
      "text/plain": [
       "<seaborn.axisgrid.FacetGrid at 0x1c09b7185c8>"
      ]
     },
     "execution_count": 88,
     "metadata": {},
     "output_type": "execute_result"
    },
    {
     "data": {
      "image/png": "[encoded data removed]",
      "text/plain": [
       "<Figure size 404.625x360 with 1 Axes>"
      ]
     },
     "metadata": {
      "needs_background": "light"
     },
     "output_type": "display_data"
    }
   ],
   "source": [
    "sns.lmplot(x='Generacion', y='NumeroDeSuicidios', hue='Sexo', \n",
    "           data=df.loc[df['Sexo'].isin(['M'])], \n",
    "           fit_reg=False)"
   ]
  },
  {
   "cell_type": "markdown",
   "metadata": {},
   "source": [
    "# Economia"
   ]
  },
  {
   "cell_type": "markdown",
   "metadata": {},
   "source": [
    "En base a los datos documentales analizados, para la cuarta pregunta, referente a:\n",
    "* Entre los paises de Mexico y Estados Unidos influyó en los suicidios la calidad de vida en base a la economia que se tenia? Tomare en cuenta las siguientes graficas para saber la relacion que se tienen entre los datos correspondientes y de esta manera dar a conocer en base a los resultados si en verdad influyo o no. "
   ]
  },
  {
   "cell_type": "markdown",
   "metadata": {},
   "source": [
    "En primer punto, mostrare el numero de suicidios totales que se han tenido por el rango de edad para saber si influye dentro de la economia, ¿A que quiero llegar?.Al punto de saber si en cuestion de edades laborales, mayores de 18 por parte de mexico y mayores de 21 años por parte de EU, han sido la mayoria de los suicidios."
   ]
  },
  {
   "cell_type": "code",
   "execution_count": 89,
   "metadata": {},
   "outputs": [
    {
     "data": {
      "text/plain": [
       "Pais                 year  gdp_per_capita ($)\n",
       "Albania              1995  835                     88\n",
       "                     2000  1299                    54\n",
       "                     2005  2931                     0\n",
       "                     2010  4359                    96\n",
       "Antigua and Barbuda  2012  13657                    0\n",
       "                                                 ... \n",
       "Uzbekistan           2010  1533                  1464\n",
       "                     2011  1767                  1640\n",
       "                     2012  1964                  1835\n",
       "                     2013  2150                  1950\n",
       "                     2014  2309                  2095\n",
       "Name: NumeroDeSuicidios, Length: 697, dtype: int64"
      ]
     },
     "execution_count": 89,
     "metadata": {},
     "output_type": "execute_result"
    }
   ],
   "source": [
    "suicides_gdp_country= df.groupby([\"Pais\", \"year\",\"gdp_per_capita ($)\"])[\"NumeroDeSuicidios\"].sum()\n",
    "suicides_gdp_country"
   ]
  },
  {
   "cell_type": "code",
   "execution_count": 90,
   "metadata": {},
   "outputs": [
    {
     "data": {
      "text/html": [
       "<div class='tableauPlaceholder' id='viz1561735467494' style='position: relative'><noscript><a href='#'><img alt=' ' src='https:&#47;&#47;public.tableau.com&#47;static&#47;images&#47;Su&#47;Suicide_ratio_Dashboard&#47;SuicidebyCountry&#47;1_rss.png' style='border: none' /></a></noscript><object class='tableauViz'  style='display:none;'><param name='host_url' value='https%3A%2F%2Fpublic.tableau.com%2F' /> <param name='embed_code_version' value='3' /> <param name='site_root' value='' /><param name='name' value='Suicide_ratio_Dashboard&#47;SuicidebyCountry' /><param name='tabs' value='no' /><param name='toolbar' value='yes' /><param name='static_image' value='https:&#47;&#47;public.tableau.com&#47;static&#47;images&#47;Su&#47;Suicide_ratio_Dashboard&#47;SuicidebyCountry&#47;1.png' /> <param name='animate_transition' value='yes' /><param name='display_static_image' value='yes' /><param name='display_spinner' value='yes' /><param name='display_overlay' value='yes' /><param name='display_count' value='yes' /><param name='filter' value='publish=yes' /></object></div>                <script type='text/javascript'>                    var divElement = document.getElementById('viz1561735467494');                    var vizElement = divElement.getElementsByTagName('object')[0];                    vizElement.style.width='800px';vizElement.style.height='827px';                    var scriptElement = document.createElement('script');                    scriptElement.src = 'https://public.tableau.com/javascripts/api/viz_v1.js';                    vizElement.parentNode.insertBefore(scriptElement, vizElement);                </script>\n"
      ],
      "text/plain": [
       "<IPython.core.display.HTML object>"
      ]
     },
     "metadata": {},
     "output_type": "display_data"
    }
   ],
   "source": [
    "%%HTML\n",
    "<div class='tableauPlaceholder' id='viz1561735467494' style='position: relative'><noscript><a href='#'><img alt=' ' src='https:&#47;&#47;public.tableau.com&#47;static&#47;images&#47;Su&#47;Suicide_ratio_Dashboard&#47;SuicidebyCountry&#47;1_rss.png' style='border: none' /></a></noscript><object class='tableauViz'  style='display:none;'><param name='host_url' value='https%3A%2F%2Fpublic.tableau.com%2F' /> <param name='embed_code_version' value='3' /> <param name='site_root' value='' /><param name='name' value='Suicide_ratio_Dashboard&#47;SuicidebyCountry' /><param name='tabs' value='no' /><param name='toolbar' value='yes' /><param name='static_image' value='https:&#47;&#47;public.tableau.com&#47;static&#47;images&#47;Su&#47;Suicide_ratio_Dashboard&#47;SuicidebyCountry&#47;1.png' /> <param name='animate_transition' value='yes' /><param name='display_static_image' value='yes' /><param name='display_spinner' value='yes' /><param name='display_overlay' value='yes' /><param name='display_count' value='yes' /><param name='filter' value='publish=yes' /></object></div>                <script type='text/javascript'>                    var divElement = document.getElementById('viz1561735467494');                    var vizElement = divElement.getElementsByTagName('object')[0];                    vizElement.style.width='800px';vizElement.style.height='827px';                    var scriptElement = document.createElement('script');                    scriptElement.src = 'https://public.tableau.com/javascripts/api/viz_v1.js';                    vizElement.parentNode.insertBefore(scriptElement, vizElement);                </script>"
   ]
  },
  {
   "cell_type": "markdown",
   "metadata": {},
   "source": [
    "Podemos ver que en México precisamente la mayoria de los suicidios han sido mayores de los 18 años, a partir de esa edad es cuando más se han dado desgraciadamente. Y por Parte de Estados Unidos se comienzan la mayoria de los suicidios entre los 35 y 54 años, edades en las cuales es muy significativo ya que podria ser que se debe a la gran responsabilidad de cargar con una familia. "
   ]
  },
  {
   "cell_type": "code",
   "execution_count": 99,
   "metadata": {},
   "outputs": [
    {
     "data": {
      "image/png": "[encoded data removed]",
      "text/plain": [
       "<Figure size 432x288 with 2 Axes>"
      ]
     },
     "metadata": {
      "needs_background": "light"
     },
     "output_type": "display_data"
    }
   ],
   "source": [
    "fig, ax1 = plt.subplots()\n",
    "\n",
    "# Plot the suicides over the years.\n",
    "lns1 = ax1.plot(df['year'], df['gdp_per_capita ($)'], 'C0', label='Suicides')\n",
    "\n",
    "# Create a shared axis for plotting on a different scale the GPD.\n",
    "ax2 = ax1.twinx()\n",
    "lns2 = ax2.plot(df['year'], df['NumeroDeSuicidios'], 'C1', label='GPD')\n",
    "\n",
    "# Join both legends into the same box.\n",
    "lns = lns1 + lns2\n",
    "labs = [l.get_label() for l in lns]\n",
    "ax1.legend(lns, labs, loc=2)\n",
    "\n",
    "# Set the labels.\n",
    "ax1.set_ylabel('GDP per Capita')\n",
    "ax2.set_ylabel('NumeroDeSuicidios')\n",
    "ax1.set_xlabel('Years')\n",
    "\n",
    "plt.tight_layout()\n",
    "plt.show()"
   ]
  },
  {
   "cell_type": "code",
   "execution_count": 111,
   "metadata": {},
   "outputs": [
    {
     "data": {
      "image/png": "[encoded data removed]",
      "text/plain": [
       "<Figure size 1440x720 with 1 Axes>"
      ]
     },
     "metadata": {
      "needs_background": "light"
     },
     "output_type": "display_data"
    }
   ],
   "source": [
    "data_gdp = (df['gdp_per_capita ($)'].groupby(df.year)).sum()\n",
    "data_gdp.plot(figsize=(20,10), linewidth=2, fontsize=15,color='red')\n",
    "plt.xlabel('Year', fontsize=15)\n",
    "plt.ylabel(' Total gdp_per_capita ($)',fontsize=15)\n",
    "plt.show()"
   ]
  },
  {
   "cell_type": "code",
   "execution_count": 117,
   "metadata": {},
   "outputs": [],
   "source": [
    "suicides_poor_rich = df[['year', 'Pais', 'gdp_per_capita ($)', 'NumeroDeSuicidios']]\n",
    "\n",
    "# Sort the the countries by their average gpd over the years.\n",
    "# Then get the list of the countries ordered.\n",
    "countries_by_gpd = suicides_poor_rich.groupby('Pais').mean().sort_values('gdp_per_capita ($)', ascending=False).index"
   ]
  },
  {
   "cell_type": "code",
   "execution_count": 118,
   "metadata": {},
   "outputs": [
    {
     "data": {
      "text/plain": [
       "Index(['Luxembourg', 'Norway', 'Qatar', 'Switzerland', 'Singapore',\n",
       "       'Nicaragua', 'Uzbekistan', 'Kyrgyzstan', 'Sri Lanka', 'Azerbaijan'],\n",
       "      dtype='object', name='Pais')"
      ]
     },
     "execution_count": 118,
     "metadata": {},
     "output_type": "execute_result"
    }
   ],
   "source": [
    "top_countries = countries_by_gpd[:5]\n",
    "bot_countries = countries_by_gpd[-5:]\n",
    "\n",
    "# Append them for the future filter.\n",
    "countries_to_compare = top_countries.append(bot_countries)\n",
    "countries_to_compare"
   ]
  },
  {
   "cell_type": "code",
   "execution_count": 121,
   "metadata": {},
   "outputs": [
    {
     "data": {
      "text/html": [
       "<div>\n",
       "<style scoped>\n",
       "    .dataframe tbody tr th:only-of-type {\n",
       "        vertical-align: middle;\n",
       "    }\n",
       "\n",
       "    .dataframe tbody tr th {\n",
       "        vertical-align: top;\n",
       "    }\n",
       "\n",
       "    .dataframe thead th {\n",
       "        text-align: right;\n",
       "    }\n",
       "</style>\n",
       "<table border=\"1\" class=\"dataframe\">\n",
       "  <thead>\n",
       "    <tr style=\"text-align: right;\">\n",
       "      <th></th>\n",
       "      <th>year</th>\n",
       "      <th>Pais</th>\n",
       "      <th>gdp_per_capita ($)</th>\n",
       "      <th>NumeroDeSuicidios</th>\n",
       "    </tr>\n",
       "  </thead>\n",
       "  <tbody>\n",
       "    <tr>\n",
       "      <td>20060</td>\n",
       "      <td>1995</td>\n",
       "      <td>Qatar</td>\n",
       "      <td>17559</td>\n",
       "      <td>0</td>\n",
       "    </tr>\n",
       "    <tr>\n",
       "      <td>18159</td>\n",
       "      <td>2010</td>\n",
       "      <td>Norway</td>\n",
       "      <td>93638</td>\n",
       "      <td>132</td>\n",
       "    </tr>\n",
       "    <tr>\n",
       "      <td>14724</td>\n",
       "      <td>2010</td>\n",
       "      <td>Kyrgyzstan</td>\n",
       "      <td>991</td>\n",
       "      <td>86</td>\n",
       "    </tr>\n",
       "    <tr>\n",
       "      <td>27767</td>\n",
       "      <td>2010</td>\n",
       "      <td>Uzbekistan</td>\n",
       "      <td>1533</td>\n",
       "      <td>101</td>\n",
       "    </tr>\n",
       "    <tr>\n",
       "      <td>20093</td>\n",
       "      <td>2005</td>\n",
       "      <td>Qatar</td>\n",
       "      <td>55899</td>\n",
       "      <td>0</td>\n",
       "    </tr>\n",
       "  </tbody>\n",
       "</table>\n",
       "</div>"
      ],
      "text/plain": [
       "       year        Pais  gdp_per_capita ($)  NumeroDeSuicidios\n",
       "20060  1995       Qatar               17559                  0\n",
       "18159  2010      Norway               93638                132\n",
       "14724  2010  Kyrgyzstan                 991                 86\n",
       "27767  2010  Uzbekistan                1533                101\n",
       "20093  2005       Qatar               55899                  0"
      ]
     },
     "execution_count": 121,
     "metadata": {},
     "output_type": "execute_result"
    }
   ],
   "source": [
    "suicides_poor_rich = suicides_poor_rich.loc[suicides_poor_rich['Pais'].isin(countries_to_compare)]\n",
    "suicides_poor_rich.sample(5)"
   ]
  },
  {
   "cell_type": "code",
   "execution_count": 122,
   "metadata": {},
   "outputs": [
    {
     "data": {
      "text/plain": [
       "{'Luxembourg': 'TOP',\n",
       " 'Norway': 'TOP',\n",
       " 'Qatar': 'TOP',\n",
       " 'Switzerland': 'TOP',\n",
       " 'Singapore': 'TOP',\n",
       " 'Nicaragua': 'BOT',\n",
       " 'Uzbekistan': 'BOT',\n",
       " 'Kyrgyzstan': 'BOT',\n",
       " 'Sri Lanka': 'BOT',\n",
       " 'Azerbaijan': 'BOT'}"
      ]
     },
     "execution_count": 122,
     "metadata": {},
     "output_type": "execute_result"
    }
   ],
   "source": [
    "country_filter = {country:'TOP' for country in top_countries}\n",
    "country_filter.update({country:'BOT' for country in bot_countries})\n",
    "\n",
    "country_filter"
   ]
  },
  {
   "cell_type": "code",
   "execution_count": 123,
   "metadata": {},
   "outputs": [
    {
     "name": "stderr",
     "output_type": "stream",
     "text": [
      "C:\\Users\\marib\\Anaconda3\\lib\\site-packages\\ipykernel_launcher.py:1: SettingWithCopyWarning: \n",
      "A value is trying to be set on a copy of a slice from a DataFrame.\n",
      "Try using .loc[row_indexer,col_indexer] = value instead\n",
      "\n",
      "See the caveats in the documentation: http://pandas.pydata.org/pandas-docs/stable/user_guide/indexing.html#returning-a-view-versus-a-copy\n",
      "  \"\"\"Entry point for launching an IPython kernel.\n"
     ]
    },
    {
     "data": {
      "text/html": [
       "<div>\n",
       "<style scoped>\n",
       "    .dataframe tbody tr th:only-of-type {\n",
       "        vertical-align: middle;\n",
       "    }\n",
       "\n",
       "    .dataframe tbody tr th {\n",
       "        vertical-align: top;\n",
       "    }\n",
       "\n",
       "    .dataframe thead th {\n",
       "        text-align: right;\n",
       "    }\n",
       "</style>\n",
       "<table border=\"1\" class=\"dataframe\">\n",
       "  <thead>\n",
       "    <tr style=\"text-align: right;\">\n",
       "      <th></th>\n",
       "      <th>year</th>\n",
       "      <th>Pais</th>\n",
       "      <th>gdp_per_capita ($)</th>\n",
       "      <th>NumeroDeSuicidios</th>\n",
       "    </tr>\n",
       "  </thead>\n",
       "  <tbody>\n",
       "    <tr>\n",
       "      <td>18047</td>\n",
       "      <td>2000</td>\n",
       "      <td>TOP</td>\n",
       "      <td>41099</td>\n",
       "      <td>0</td>\n",
       "    </tr>\n",
       "    <tr>\n",
       "      <td>27686</td>\n",
       "      <td>2000</td>\n",
       "      <td>BOT</td>\n",
       "      <td>632</td>\n",
       "      <td>57</td>\n",
       "    </tr>\n",
       "    <tr>\n",
       "      <td>20191</td>\n",
       "      <td>2013</td>\n",
       "      <td>TOP</td>\n",
       "      <td>93066</td>\n",
       "      <td>0</td>\n",
       "    </tr>\n",
       "    <tr>\n",
       "      <td>22748</td>\n",
       "      <td>2014</td>\n",
       "      <td>TOP</td>\n",
       "      <td>84442</td>\n",
       "      <td>29</td>\n",
       "    </tr>\n",
       "    <tr>\n",
       "      <td>18042</td>\n",
       "      <td>2000</td>\n",
       "      <td>TOP</td>\n",
       "      <td>41099</td>\n",
       "      <td>50</td>\n",
       "    </tr>\n",
       "  </tbody>\n",
       "</table>\n",
       "</div>"
      ],
      "text/plain": [
       "       year Pais  gdp_per_capita ($)  NumeroDeSuicidios\n",
       "18047  2000  TOP               41099                  0\n",
       "27686  2000  BOT                 632                 57\n",
       "20191  2013  TOP               93066                  0\n",
       "22748  2014  TOP               84442                 29\n",
       "18042  2000  TOP               41099                 50"
      ]
     },
     "execution_count": 123,
     "metadata": {},
     "output_type": "execute_result"
    }
   ],
   "source": [
    "suicides_poor_rich['Pais'] = suicides_poor_rich['Pais'].map(country_filter)\n",
    "suicides_poor_rich.sample(5)"
   ]
  },
  {
   "cell_type": "code",
   "execution_count": 127,
   "metadata": {},
   "outputs": [
    {
     "data": {
      "image/png": "[encoded data removed]",
      "text/plain": [
       "<Figure size 432x288 with 1 Axes>"
      ]
     },
     "metadata": {
      "needs_background": "light"
     },
     "output_type": "display_data"
    }
   ],
   "source": [
    "sns.lineplot(x='year', y='NumeroDeSuicidios', data=suicides_poor_rich, hue='Pais', ci=None)\n",
    "plt.legend(labels=['BOT', 'TOP'])\n",
    "\n",
    "plt.title('Comparacion entre Superior e Inferior Economia ')\n",
    "plt.xlabel('Año')\n",
    "plt.ylabel('Numero De Suicidios')\n",
    "plt.show()"
   ]
  },
  {
   "cell_type": "markdown",
   "metadata": {},
   "source": [
    "We expect the suicide rate to be negatively correlated to gdp per capita since people seem to care about money. While gdp does not perfectly reflect the wealth of the average person, it's what we got. Let's see if this checks out.\n",
    "Males commit suicide significantly higher than females, with and average difference of 15 suicides per 100k of population. Interestingly this difference becomes greater at older ages.\n",
    "Como podemos ver, los países más pobres llegaron incluso por debajo de los países más ricos durante casi dos décadas. Eso puede deberse al hecho de que la esperanza de vida es menor en esos países y, como vimos antes, la gran parte del total de suicidios se comete en las últimas etapas de la vida."
   ]
  },
  {
   "cell_type": "code",
   "execution_count": null,
   "metadata": {},
   "outputs": [],
   "source": [
    "df %>% group_by(country, gdppc) %>% summarize(s = sum(suicides_no)/sum(population)) %>% \n",
    "ggplot() + geom_point(aes(gdppc, s), alpha=0.4)"
   ]
  },
  {
   "cell_type": "markdown",
   "metadata": {},
   "source": [
    "### Conclusion"
   ]
  },
  {
   "cell_type": "markdown",
   "metadata": {},
   "source": [
    "Ante este proyecto se han aprendido nuevas maneras del uso del notebook, desde limpieza de datos como su visualizacion para poder representar a los demas y dar informacion util ante cualquier situacion referente a los indices de suicidios en diferentes paises, respecto a las preguntas formuladas las conclusiones se fueron guiando durante todo el proyecto, pero recopilando la informacion, llegamos a estas.\n",
    "Las preguntas fueron totalmente respondidas, en cuestion de la primera:\n",
    "*  Quienes tienen mayor indice de suicidios por generaciones millenial y Z?\n",
    "Pudimos concluir que el grupo más propenso al suicidio fueron las generaciones más jovenes, tal como lo es la Z, demostradas estas estadisticas en nuestra primera grafica anteriormente mostrada, pero sin embargo no solo mostraron eso, sino que el primer lugar de suicidios lo tiene la generacion X, sorprendentemente.\n",
    "\n",
    "Para la segunda pregunta que costa de: \n",
    "\n",
    "* Entre los paises de Mexico y Japón, quien tiene el mayor indice de suicidios?\n",
    "Desgraciadamente el pais que conforma el numero uno en indice de suicidios es el de Japon (en esta comparacion) pero al mostrar la tabla con todos los paises se demostro que el primero de los primeros diez lo toma Estados Unidos.\n",
    "\n",
    "Para la tercera pregunta:\n",
    "\n",
    "* Se puede saber entre hombres y mujeres quienes tienen mayor indice de suicidios por generacion?\n",
    "Si, como ya lo habiamos mencionado se dio a conocer en dos tablas por separado para una mejor visualizacion de datos que los hombres eran quien tenian mayor indice de suicidios, pero de esta manera pudimos darnos cuenta que quienes más hombres tenian en suicidios fue en la generacion X, todo esto comprobado y mostrado en la grafica.\n"
   ]
  },
  {
   "cell_type": "code",
   "execution_count": null,
   "metadata": {},
   "outputs": [],
   "source": []
  },
  {
   "cell_type": "code",
   "execution_count": null,
   "metadata": {},
   "outputs": [],
   "source": []
  },
  {
   "cell_type": "code",
   "execution_count": null,
   "metadata": {},
   "outputs": [],
   "source": []
  }
 ],
 "metadata": {
  "kernelspec": {
   "display_name": "Python 3",
   "language": "python",
   "name": "python3"
  },
  "language_info": {
   "codemirror_mode": {
    "name": "ipython",
    "version": 3
   },
   "file_extension": ".py",
   "mimetype": "text/x-python",
   "name": "python",
   "nbconvert_exporter": "python",
   "pygments_lexer": "ipython3",
   "version": "3.7.4"
  }
 },
 "nbformat": 4,
 "nbformat_minor": 2
}
